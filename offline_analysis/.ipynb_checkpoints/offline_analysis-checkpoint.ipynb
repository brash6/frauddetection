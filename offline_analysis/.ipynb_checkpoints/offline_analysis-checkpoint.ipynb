{
 "cells": [
  {
   "cell_type": "markdown",
   "metadata": {},
   "source": [
    "# Offline Analysis Kafka events"
   ]
  },
  {
   "cell_type": "markdown",
   "metadata": {},
   "source": [
    "## Json to Dataframe"
   ]
  },
  {
   "cell_type": "code",
   "execution_count": 1,
   "metadata": {},
   "outputs": [],
   "source": [
    "import pandas as pd   \n",
    "import json"
   ]
  },
  {
   "cell_type": "code",
   "execution_count": 2,
   "metadata": {},
   "outputs": [],
   "source": [
    "kafka_events = []\n",
    "for line in open('sample_kafka_gen.json', 'r'):\n",
    "    kafka_events.append(json.loads(line))"
   ]
  },
  {
   "cell_type": "code",
   "execution_count": 3,
   "metadata": {},
   "outputs": [
    {
     "name": "stdout",
     "output_type": "stream",
     "text": [
      "the number of events in this sample is : 5733\n"
     ]
    }
   ],
   "source": [
    "print(\"the number of events in this sample is : \" + str(len(kafka_events)))"
   ]
  },
  {
   "cell_type": "code",
   "execution_count": 4,
   "metadata": {},
   "outputs": [],
   "source": [
    "df_kafka_events = pd.DataFrame(kafka_events)"
   ]
  },
  {
   "cell_type": "code",
   "execution_count": 5,
   "metadata": {},
   "outputs": [],
   "source": [
    "df_kafka_events.sort_values(\"timestamp\", inplace=True)"
   ]
  },
  {
   "cell_type": "markdown",
   "metadata": {},
   "source": [
    "## Some constants"
   ]
  },
  {
   "cell_type": "code",
   "execution_count": 6,
   "metadata": {},
   "outputs": [],
   "source": [
    "sliding_window_size = int((df_kafka_events[\"timestamp\"].loc[df_kafka_events.index[5732]]\n",
    "                       - df_kafka_events[\"timestamp\"].loc[df_kafka_events.index[0]])/5)"
   ]
  },
  {
   "cell_type": "code",
   "execution_count": 7,
   "metadata": {},
   "outputs": [
    {
     "data": {
      "text/plain": [
       "67"
      ]
     },
     "execution_count": 7,
     "metadata": {},
     "output_type": "execute_result"
    }
   ],
   "source": [
    "sliding_window_size"
   ]
  },
  {
   "cell_type": "markdown",
   "metadata": {},
   "source": [
    "## Simulate a sliding window"
   ]
  },
  {
   "cell_type": "code",
   "execution_count": 8,
   "metadata": {},
   "outputs": [],
   "source": [
    "time = df_kafka_events[\"timestamp\"].loc[df_kafka_events.index[0]] + sliding_window_size\n",
    "while time <= df_kafka_events[\"timestamp\"].loc[df_kafka_events.index[5732]]:\n",
    "    df_temp = df_kafka_events[df_kafka_events[\"timestamp\"]<= time]\n",
    "    time = time + 1\n",
    "                                       "
   ]
  },
  {
   "cell_type": "markdown",
   "metadata": {},
   "source": [
    "## Walk through data"
   ]
  },
  {
   "cell_type": "code",
   "execution_count": 9,
   "metadata": {},
   "outputs": [],
   "source": [
    "df_uid = df_kafka_events.groupby([\"uid\", \"eventType\"]).count()"
   ]
  },
  {
   "cell_type": "code",
   "execution_count": 10,
   "metadata": {},
   "outputs": [
    {
     "data": {
      "text/html": [
       "<div>\n",
       "<style scoped>\n",
       "    .dataframe tbody tr th:only-of-type {\n",
       "        vertical-align: middle;\n",
       "    }\n",
       "\n",
       "    .dataframe tbody tr th {\n",
       "        vertical-align: top;\n",
       "    }\n",
       "\n",
       "    .dataframe thead th {\n",
       "        text-align: right;\n",
       "    }\n",
       "</style>\n",
       "<table border=\"1\" class=\"dataframe\">\n",
       "  <thead>\n",
       "    <tr style=\"text-align: right;\">\n",
       "      <th></th>\n",
       "      <th></th>\n",
       "      <th>timestamp</th>\n",
       "      <th>ip</th>\n",
       "      <th>impressionId</th>\n",
       "    </tr>\n",
       "    <tr>\n",
       "      <th>uid</th>\n",
       "      <th>eventType</th>\n",
       "      <th></th>\n",
       "      <th></th>\n",
       "      <th></th>\n",
       "    </tr>\n",
       "  </thead>\n",
       "  <tbody>\n",
       "    <tr>\n",
       "      <td>000e5d96-81b7-45a6-9679-f170191d29f7</td>\n",
       "      <td>display</td>\n",
       "      <td>1</td>\n",
       "      <td>1</td>\n",
       "      <td>1</td>\n",
       "    </tr>\n",
       "    <tr>\n",
       "      <td>a970d0a0-a5f0-43f1-93f1-ed5caae6f97a</td>\n",
       "      <td>display</td>\n",
       "      <td>1</td>\n",
       "      <td>1</td>\n",
       "      <td>1</td>\n",
       "    </tr>\n",
       "    <tr>\n",
       "      <td>a9890f26-75de-4fe2-b222-5de34cebf79f</td>\n",
       "      <td>display</td>\n",
       "      <td>1</td>\n",
       "      <td>1</td>\n",
       "      <td>1</td>\n",
       "    </tr>\n",
       "    <tr>\n",
       "      <td rowspan=\"2\" valign=\"top\">a98b0ac6-493b-4a01-b0be-851fcb2725b619</td>\n",
       "      <td>click</td>\n",
       "      <td>1</td>\n",
       "      <td>1</td>\n",
       "      <td>1</td>\n",
       "    </tr>\n",
       "    <tr>\n",
       "      <td>display</td>\n",
       "      <td>1</td>\n",
       "      <td>1</td>\n",
       "      <td>1</td>\n",
       "    </tr>\n",
       "    <tr>\n",
       "      <td>...</td>\n",
       "      <td>...</td>\n",
       "      <td>...</td>\n",
       "      <td>...</td>\n",
       "      <td>...</td>\n",
       "    </tr>\n",
       "    <tr>\n",
       "      <td>2ec6f171-09e3-43c8-9044-1a35ec376737</td>\n",
       "      <td>display</td>\n",
       "      <td>52</td>\n",
       "      <td>52</td>\n",
       "      <td>52</td>\n",
       "    </tr>\n",
       "    <tr>\n",
       "      <td>de20e210-b761-451d-b79b-c0c8e219b280</td>\n",
       "      <td>display</td>\n",
       "      <td>52</td>\n",
       "      <td>52</td>\n",
       "      <td>52</td>\n",
       "    </tr>\n",
       "    <tr>\n",
       "      <td>bd73729d-e486-46c3-968f-2bfbc23e1d02</td>\n",
       "      <td>display</td>\n",
       "      <td>52</td>\n",
       "      <td>52</td>\n",
       "      <td>52</td>\n",
       "    </tr>\n",
       "    <tr>\n",
       "      <td>fb5814ab-008b-46cd-875b-55a1a1a91c3d</td>\n",
       "      <td>display</td>\n",
       "      <td>54</td>\n",
       "      <td>54</td>\n",
       "      <td>54</td>\n",
       "    </tr>\n",
       "    <tr>\n",
       "      <td>21954c8c-f0c2-4481-a621-27c06a1187cb</td>\n",
       "      <td>display</td>\n",
       "      <td>57</td>\n",
       "      <td>57</td>\n",
       "      <td>57</td>\n",
       "    </tr>\n",
       "  </tbody>\n",
       "</table>\n",
       "<p>2896 rows × 3 columns</p>\n",
       "</div>"
      ],
      "text/plain": [
       "                                                  timestamp  ip  impressionId\n",
       "uid                                    eventType                             \n",
       "000e5d96-81b7-45a6-9679-f170191d29f7   display            1   1             1\n",
       "a970d0a0-a5f0-43f1-93f1-ed5caae6f97a   display            1   1             1\n",
       "a9890f26-75de-4fe2-b222-5de34cebf79f   display            1   1             1\n",
       "a98b0ac6-493b-4a01-b0be-851fcb2725b619 click              1   1             1\n",
       "                                       display            1   1             1\n",
       "...                                                     ...  ..           ...\n",
       "2ec6f171-09e3-43c8-9044-1a35ec376737   display           52  52            52\n",
       "de20e210-b761-451d-b79b-c0c8e219b280   display           52  52            52\n",
       "bd73729d-e486-46c3-968f-2bfbc23e1d02   display           52  52            52\n",
       "fb5814ab-008b-46cd-875b-55a1a1a91c3d   display           54  54            54\n",
       "21954c8c-f0c2-4481-a621-27c06a1187cb   display           57  57            57\n",
       "\n",
       "[2896 rows x 3 columns]"
      ]
     },
     "execution_count": 10,
     "metadata": {},
     "output_type": "execute_result"
    }
   ],
   "source": [
    "df_uid.sort_values(\"impressionId\")"
   ]
  },
  {
   "cell_type": "code",
   "execution_count": 11,
   "metadata": {},
   "outputs": [
    {
     "data": {
      "text/html": [
       "<div>\n",
       "<style scoped>\n",
       "    .dataframe tbody tr th:only-of-type {\n",
       "        vertical-align: middle;\n",
       "    }\n",
       "\n",
       "    .dataframe tbody tr th {\n",
       "        vertical-align: top;\n",
       "    }\n",
       "\n",
       "    .dataframe thead th {\n",
       "        text-align: right;\n",
       "    }\n",
       "</style>\n",
       "<table border=\"1\" class=\"dataframe\">\n",
       "  <thead>\n",
       "    <tr style=\"text-align: right;\">\n",
       "      <th></th>\n",
       "      <th>eventType</th>\n",
       "      <th>timestamp</th>\n",
       "      <th>ip</th>\n",
       "      <th>impressionId</th>\n",
       "    </tr>\n",
       "    <tr>\n",
       "      <th>uid</th>\n",
       "      <th></th>\n",
       "      <th></th>\n",
       "      <th></th>\n",
       "      <th></th>\n",
       "    </tr>\n",
       "  </thead>\n",
       "  <tbody>\n",
       "    <tr>\n",
       "      <td>000e5d96-81b7-45a6-9679-f170191d29f7</td>\n",
       "      <td>1</td>\n",
       "      <td>1</td>\n",
       "      <td>1</td>\n",
       "      <td>1</td>\n",
       "    </tr>\n",
       "    <tr>\n",
       "      <td>001d9e25-a6d6-4bdf-9895-3400e3a33639</td>\n",
       "      <td>1</td>\n",
       "      <td>1</td>\n",
       "      <td>1</td>\n",
       "      <td>1</td>\n",
       "    </tr>\n",
       "    <tr>\n",
       "      <td>0034ffa3-d30d-4f3c-87fe-96886216dcf2</td>\n",
       "      <td>1</td>\n",
       "      <td>1</td>\n",
       "      <td>1</td>\n",
       "      <td>1</td>\n",
       "    </tr>\n",
       "    <tr>\n",
       "      <td>003a0623-ba8c-45de-9028-8215701194dd</td>\n",
       "      <td>1</td>\n",
       "      <td>1</td>\n",
       "      <td>1</td>\n",
       "      <td>1</td>\n",
       "    </tr>\n",
       "    <tr>\n",
       "      <td>003c0678-29d7-40c7-bb12-1d9eb5a1f916</td>\n",
       "      <td>1</td>\n",
       "      <td>1</td>\n",
       "      <td>1</td>\n",
       "      <td>1</td>\n",
       "    </tr>\n",
       "    <tr>\n",
       "      <td>...</td>\n",
       "      <td>...</td>\n",
       "      <td>...</td>\n",
       "      <td>...</td>\n",
       "      <td>...</td>\n",
       "    </tr>\n",
       "    <tr>\n",
       "      <td>ffaeebac-e9c5-4095-ad88-7dc8430962d0</td>\n",
       "      <td>1</td>\n",
       "      <td>1</td>\n",
       "      <td>1</td>\n",
       "      <td>1</td>\n",
       "    </tr>\n",
       "    <tr>\n",
       "      <td>ffcb946b-9c90-42e2-ae76-1ec83243652e</td>\n",
       "      <td>1</td>\n",
       "      <td>1</td>\n",
       "      <td>1</td>\n",
       "      <td>1</td>\n",
       "    </tr>\n",
       "    <tr>\n",
       "      <td>ffd82b1d-e947-4f90-9b41-68e6d485409b</td>\n",
       "      <td>2</td>\n",
       "      <td>2</td>\n",
       "      <td>2</td>\n",
       "      <td>2</td>\n",
       "    </tr>\n",
       "    <tr>\n",
       "      <td>fffc81ba-bdf0-4c5d-9122-db29a73a5a1d</td>\n",
       "      <td>1</td>\n",
       "      <td>1</td>\n",
       "      <td>1</td>\n",
       "      <td>1</td>\n",
       "    </tr>\n",
       "    <tr>\n",
       "      <td>fffe3fb2-e264-4cd5-9a36-fd41ddd2a39c</td>\n",
       "      <td>1</td>\n",
       "      <td>1</td>\n",
       "      <td>1</td>\n",
       "      <td>1</td>\n",
       "    </tr>\n",
       "  </tbody>\n",
       "</table>\n",
       "<p>2417 rows × 4 columns</p>\n",
       "</div>"
      ],
      "text/plain": [
       "                                      eventType  timestamp  ip  impressionId\n",
       "uid                                                                         \n",
       "000e5d96-81b7-45a6-9679-f170191d29f7          1          1   1             1\n",
       "001d9e25-a6d6-4bdf-9895-3400e3a33639          1          1   1             1\n",
       "0034ffa3-d30d-4f3c-87fe-96886216dcf2          1          1   1             1\n",
       "003a0623-ba8c-45de-9028-8215701194dd          1          1   1             1\n",
       "003c0678-29d7-40c7-bb12-1d9eb5a1f916          1          1   1             1\n",
       "...                                         ...        ...  ..           ...\n",
       "ffaeebac-e9c5-4095-ad88-7dc8430962d0          1          1   1             1\n",
       "ffcb946b-9c90-42e2-ae76-1ec83243652e          1          1   1             1\n",
       "ffd82b1d-e947-4f90-9b41-68e6d485409b          2          2   2             2\n",
       "fffc81ba-bdf0-4c5d-9122-db29a73a5a1d          1          1   1             1\n",
       "fffe3fb2-e264-4cd5-9a36-fd41ddd2a39c          1          1   1             1\n",
       "\n",
       "[2417 rows x 4 columns]"
      ]
     },
     "execution_count": 11,
     "metadata": {},
     "output_type": "execute_result"
    }
   ],
   "source": [
    "df_kafka_events.groupby(\"uid\").count()"
   ]
  },
  {
   "cell_type": "code",
   "execution_count": 12,
   "metadata": {},
   "outputs": [],
   "source": [
    "df_kafka_events[\"CTR\"] = 0\n",
    "df_kafka_events[\"Time_bef_click\"] = -1"
   ]
  },
  {
   "cell_type": "code",
   "execution_count": 13,
   "metadata": {},
   "outputs": [],
   "source": [
    "for uid in df_kafka_events['uid'].unique():\n",
    "    df_temp_uid = df_kafka_events[df_kafka_events[\"uid\"] == uid]\n",
    "    if len(df_temp_uid[\"eventType\"].unique())>1:\n",
    "        uid_CTR = df_temp_uid[\"eventType\"].value_counts()[\"click\"]/df_temp_uid[\"eventType\"].value_counts()[\"display\"]\n",
    "        df_kafka_events.loc[df_kafka_events[\"uid\"]==uid, \"CTR\"]=uid_CTR\n",
    "    uid_mean_time_before_click = 0\n",
    "    nb_click = 0\n",
    "    for impressionID in df_temp_uid[\"impressionId\"].unique():\n",
    "        if len(df_temp_uid[df_temp_uid[\"impressionId\"]==impressionID][\"eventType\"].unique())>1:\n",
    "            nb_click = nb_click + 1\n",
    "            time_display = df_temp_uid[(df_temp_uid[\"impressionId\"]==impressionID) & (df_temp_uid[\"eventType\"]==\"display\")][\"timestamp\"].values[0]\n",
    "            time_click = df_temp_uid[(df_temp_uid[\"impressionId\"]==impressionID) & (df_temp_uid[\"eventType\"]==\"click\")][\"timestamp\"].values[0]\n",
    "            uid_mean_time_before_click = uid_mean_time_before_click + (time_click - time_display)\n",
    "    if nb_click != 0:\n",
    "        uid_mean_time_before_click = uid_mean_time_before_click/nb_click\n",
    "        df_kafka_events.loc[df_kafka_events[\"uid\"]==uid, \"Time_bef_click\"]=uid_mean_time_before_click"
   ]
  },
  {
   "cell_type": "code",
   "execution_count": 25,
   "metadata": {},
   "outputs": [
    {
     "data": {
      "text/html": [
       "<div>\n",
       "<style scoped>\n",
       "    .dataframe tbody tr th:only-of-type {\n",
       "        vertical-align: middle;\n",
       "    }\n",
       "\n",
       "    .dataframe tbody tr th {\n",
       "        vertical-align: top;\n",
       "    }\n",
       "\n",
       "    .dataframe thead th {\n",
       "        text-align: right;\n",
       "    }\n",
       "</style>\n",
       "<table border=\"1\" class=\"dataframe\">\n",
       "  <thead>\n",
       "    <tr style=\"text-align: right;\">\n",
       "      <th></th>\n",
       "      <th>eventType</th>\n",
       "      <th>uid</th>\n",
       "      <th>timestamp</th>\n",
       "      <th>ip</th>\n",
       "      <th>impressionId</th>\n",
       "      <th>CTR</th>\n",
       "      <th>Time_bef_click</th>\n",
       "    </tr>\n",
       "  </thead>\n",
       "  <tbody>\n",
       "    <tr>\n",
       "      <td>0</td>\n",
       "      <td>display</td>\n",
       "      <td>27240866-b0c0-4227-8ebd-cc0d1dfbe99c</td>\n",
       "      <td>1591264812</td>\n",
       "      <td>223.135.140.156</td>\n",
       "      <td>e8364f11-71da-4da0-8d7f-dafa4ea44ffd</td>\n",
       "      <td>1.000000</td>\n",
       "      <td>45.000000</td>\n",
       "    </tr>\n",
       "    <tr>\n",
       "      <td>1</td>\n",
       "      <td>display</td>\n",
       "      <td>d6d11014-0c1c-4d46-b944-cf4a6d535d5510</td>\n",
       "      <td>1591264838</td>\n",
       "      <td>238.186.83.58</td>\n",
       "      <td>37e31030-9265-440a-96a4-4df853e16983</td>\n",
       "      <td>1.000000</td>\n",
       "      <td>0.000000</td>\n",
       "    </tr>\n",
       "    <tr>\n",
       "      <td>2</td>\n",
       "      <td>click</td>\n",
       "      <td>d6d11014-0c1c-4d46-b944-cf4a6d535d5510</td>\n",
       "      <td>1591264838</td>\n",
       "      <td>238.186.83.58</td>\n",
       "      <td>37e31030-9265-440a-96a4-4df853e16983</td>\n",
       "      <td>1.000000</td>\n",
       "      <td>0.000000</td>\n",
       "    </tr>\n",
       "    <tr>\n",
       "      <td>21</td>\n",
       "      <td>display</td>\n",
       "      <td>5df25e81-a3d8-4e73-acbf-29d64aef66e5</td>\n",
       "      <td>1591264839</td>\n",
       "      <td>219.184.147.61</td>\n",
       "      <td>3bda7969-dbfb-45ae-92b6-248a0a90444a</td>\n",
       "      <td>0.489362</td>\n",
       "      <td>36.652174</td>\n",
       "    </tr>\n",
       "    <tr>\n",
       "      <td>19</td>\n",
       "      <td>display</td>\n",
       "      <td>a4aaec8f-bd17-49e1-9d31-22276aab220119</td>\n",
       "      <td>1591264839</td>\n",
       "      <td>238.186.83.58</td>\n",
       "      <td>6d40b8d0-5a6a-4b6e-ad19-13b0e0ce1d30</td>\n",
       "      <td>1.000000</td>\n",
       "      <td>0.000000</td>\n",
       "    </tr>\n",
       "    <tr>\n",
       "      <td>...</td>\n",
       "      <td>...</td>\n",
       "      <td>...</td>\n",
       "      <td>...</td>\n",
       "      <td>...</td>\n",
       "      <td>...</td>\n",
       "      <td>...</td>\n",
       "      <td>...</td>\n",
       "    </tr>\n",
       "    <tr>\n",
       "      <td>5713</td>\n",
       "      <td>click</td>\n",
       "      <td>c336f516-c8eb-4bfd-9163-3ee7f084332010</td>\n",
       "      <td>1591265148</td>\n",
       "      <td>238.186.83.58</td>\n",
       "      <td>0c76c32c-c196-4088-a8bf-7382f6bf4005</td>\n",
       "      <td>1.000000</td>\n",
       "      <td>0.000000</td>\n",
       "    </tr>\n",
       "    <tr>\n",
       "      <td>5711</td>\n",
       "      <td>display</td>\n",
       "      <td>f2b0c4c6-1b83-4fca-bddc-11729872b6a9</td>\n",
       "      <td>1591265148</td>\n",
       "      <td>194.150.103.68</td>\n",
       "      <td>3722d0a0-6748-4ce6-8264-09d9349b3adc</td>\n",
       "      <td>0.000000</td>\n",
       "      <td>-1.000000</td>\n",
       "    </tr>\n",
       "    <tr>\n",
       "      <td>5731</td>\n",
       "      <td>click</td>\n",
       "      <td>d9b873cd-a3fd-4f80-b36d-6647b510cbbb19</td>\n",
       "      <td>1591265148</td>\n",
       "      <td>238.186.83.58</td>\n",
       "      <td>e9dec2de-c245-4add-b7e5-773d8c78d064</td>\n",
       "      <td>1.000000</td>\n",
       "      <td>0.000000</td>\n",
       "    </tr>\n",
       "    <tr>\n",
       "      <td>5720</td>\n",
       "      <td>display</td>\n",
       "      <td>a540a60b-d73f-44dd-a8b3-c62d7167103614</td>\n",
       "      <td>1591265148</td>\n",
       "      <td>238.186.83.58</td>\n",
       "      <td>b03acc9d-04ef-4601-9585-62220eaf00a2</td>\n",
       "      <td>1.000000</td>\n",
       "      <td>0.000000</td>\n",
       "    </tr>\n",
       "    <tr>\n",
       "      <td>5732</td>\n",
       "      <td>display</td>\n",
       "      <td>fdc096bd-69d3-44c1-bdde-faed79c3043c</td>\n",
       "      <td>1591265148</td>\n",
       "      <td>86.163.43.77</td>\n",
       "      <td>7101794a-d122-44e5-bd2c-36c9b89feea3</td>\n",
       "      <td>0.277778</td>\n",
       "      <td>51.200000</td>\n",
       "    </tr>\n",
       "  </tbody>\n",
       "</table>\n",
       "<p>5733 rows × 7 columns</p>\n",
       "</div>"
      ],
      "text/plain": [
       "     eventType                                     uid   timestamp  \\\n",
       "0      display    27240866-b0c0-4227-8ebd-cc0d1dfbe99c  1591264812   \n",
       "1      display  d6d11014-0c1c-4d46-b944-cf4a6d535d5510  1591264838   \n",
       "2        click  d6d11014-0c1c-4d46-b944-cf4a6d535d5510  1591264838   \n",
       "21     display    5df25e81-a3d8-4e73-acbf-29d64aef66e5  1591264839   \n",
       "19     display  a4aaec8f-bd17-49e1-9d31-22276aab220119  1591264839   \n",
       "...        ...                                     ...         ...   \n",
       "5713     click  c336f516-c8eb-4bfd-9163-3ee7f084332010  1591265148   \n",
       "5711   display    f2b0c4c6-1b83-4fca-bddc-11729872b6a9  1591265148   \n",
       "5731     click  d9b873cd-a3fd-4f80-b36d-6647b510cbbb19  1591265148   \n",
       "5720   display  a540a60b-d73f-44dd-a8b3-c62d7167103614  1591265148   \n",
       "5732   display    fdc096bd-69d3-44c1-bdde-faed79c3043c  1591265148   \n",
       "\n",
       "                   ip                          impressionId       CTR  \\\n",
       "0     223.135.140.156  e8364f11-71da-4da0-8d7f-dafa4ea44ffd  1.000000   \n",
       "1       238.186.83.58  37e31030-9265-440a-96a4-4df853e16983  1.000000   \n",
       "2       238.186.83.58  37e31030-9265-440a-96a4-4df853e16983  1.000000   \n",
       "21     219.184.147.61  3bda7969-dbfb-45ae-92b6-248a0a90444a  0.489362   \n",
       "19      238.186.83.58  6d40b8d0-5a6a-4b6e-ad19-13b0e0ce1d30  1.000000   \n",
       "...               ...                                   ...       ...   \n",
       "5713    238.186.83.58  0c76c32c-c196-4088-a8bf-7382f6bf4005  1.000000   \n",
       "5711   194.150.103.68  3722d0a0-6748-4ce6-8264-09d9349b3adc  0.000000   \n",
       "5731    238.186.83.58  e9dec2de-c245-4add-b7e5-773d8c78d064  1.000000   \n",
       "5720    238.186.83.58  b03acc9d-04ef-4601-9585-62220eaf00a2  1.000000   \n",
       "5732     86.163.43.77  7101794a-d122-44e5-bd2c-36c9b89feea3  0.277778   \n",
       "\n",
       "      Time_bef_click  \n",
       "0          45.000000  \n",
       "1           0.000000  \n",
       "2           0.000000  \n",
       "21         36.652174  \n",
       "19          0.000000  \n",
       "...              ...  \n",
       "5713        0.000000  \n",
       "5711       -1.000000  \n",
       "5731        0.000000  \n",
       "5720        0.000000  \n",
       "5732       51.200000  \n",
       "\n",
       "[5733 rows x 7 columns]"
      ]
     },
     "execution_count": 25,
     "metadata": {},
     "output_type": "execute_result"
    }
   ],
   "source": [
    "df_kafka_events"
   ]
  },
  {
   "cell_type": "code",
   "execution_count": 24,
   "metadata": {},
   "outputs": [
    {
     "data": {
      "text/plain": [
       "<matplotlib.axes._subplots.AxesSubplot at 0x20f633bb488>"
      ]
     },
     "execution_count": 24,
     "metadata": {},
     "output_type": "execute_result"
    },
    {
     "data": {
      "image/png": "[encoded data removed]",
      "text/plain": [
       "<Figure size 432x288 with 1 Axes>"
      ]
     },
     "metadata": {
      "needs_background": "light"
     },
     "output_type": "display_data"
    }
   ],
   "source": [
    "df_kafka_events.boxplot('CTR')"
   ]
  },
  {
   "cell_type": "code",
   "execution_count": 17,
   "metadata": {},
   "outputs": [
    {
     "data": {
      "text/plain": [
       "321"
      ]
     },
     "execution_count": 17,
     "metadata": {},
     "output_type": "execute_result"
    }
   ],
   "source": [
    "len(df_kafka_events[df_kafka_events[\"Time_bef_click\"]==0]['uid'].unique())"
   ]
  },
  {
   "cell_type": "code",
   "execution_count": 18,
   "metadata": {},
   "outputs": [
    {
     "data": {
      "text/plain": [
       "2417"
      ]
     },
     "execution_count": 18,
     "metadata": {},
     "output_type": "execute_result"
    }
   ],
   "source": [
    "len(df_kafka_events['uid'].unique())"
   ]
  },
  {
   "cell_type": "code",
   "execution_count": null,
   "metadata": {},
   "outputs": [],
   "source": []
  }
 ],
 "metadata": {
  "kernelspec": {
   "display_name": "Python 3",
   "language": "python",
   "name": "python3"
  },
  "language_info": {
   "codemirror_mode": {
    "name": "ipython",
    "version": 3
   },
   "file_extension": ".py",
   "mimetype": "text/x-python",
   "name": "python",
   "nbconvert_exporter": "python",
   "pygments_lexer": "ipython3",
   "version": "3.7.5"
  },
  "toc": {
   "base_numbering": 1,
   "nav_menu": {},
   "number_sections": true,
   "sideBar": true,
   "skip_h1_title": true,
   "title_cell": "Table of Contents",
   "title_sidebar": "Contents",
   "toc_cell": false,
   "toc_position": {},
   "toc_section_display": true,
   "toc_window_display": false
  }
 },
 "nbformat": 4,
 "nbformat_minor": 2
}
