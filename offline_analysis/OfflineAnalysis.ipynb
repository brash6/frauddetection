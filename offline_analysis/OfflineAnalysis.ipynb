{
 "cells": [
  {
   "cell_type": "markdown",
   "metadata": {},
   "source": [
    "# Offline Analysis Kafka events"
   ]
  },
  {
   "cell_type": "markdown",
   "metadata": {},
   "source": [
    "## Json to Dataframe"
   ]
  },
  {
   "cell_type": "code",
   "execution_count": 1,
   "metadata": {},
   "outputs": [],
   "source": [
    "import pandas as pd   \n",
    "import json\n",
    "import seaborn as sns\n",
    "import matplotlib.pyplot as plt\n",
    "import numpy as np"
   ]
  },
  {
   "cell_type": "code",
   "execution_count": 2,
   "metadata": {},
   "outputs": [],
   "source": [
    "kafka_events = []\n",
    "for line in open('outputmod.json', 'r'):\n",
    "    kafka_events.append(json.loads(line))"
   ]
  },
  {
   "cell_type": "code",
   "execution_count": 3,
   "metadata": {},
   "outputs": [
    {
     "name": "stdout",
     "output_type": "stream",
     "text": [
      "the number of events in this sample is : 127605\n"
     ]
    }
   ],
   "source": [
    "print(\"the number of events in this sample is : \" + str(len(kafka_events)))"
   ]
  },
  {
   "cell_type": "code",
   "execution_count": 4,
   "metadata": {},
   "outputs": [],
   "source": [
    "df_kafka_events = pd.DataFrame(kafka_events)"
   ]
  },
  {
   "cell_type": "code",
   "execution_count": 5,
   "metadata": {},
   "outputs": [],
   "source": [
    "df_kafka_events.sort_values(\"timestamp\", inplace=True)"
   ]
  },
  {
   "cell_type": "code",
   "execution_count": 6,
   "metadata": {},
   "outputs": [
    {
     "data": {
      "text/html": [
       "<div>\n",
       "<style scoped>\n",
       "    .dataframe tbody tr th:only-of-type {\n",
       "        vertical-align: middle;\n",
       "    }\n",
       "\n",
       "    .dataframe tbody tr th {\n",
       "        vertical-align: top;\n",
       "    }\n",
       "\n",
       "    .dataframe thead th {\n",
       "        text-align: right;\n",
       "    }\n",
       "</style>\n",
       "<table border=\"1\" class=\"dataframe\">\n",
       "  <thead>\n",
       "    <tr style=\"text-align: right;\">\n",
       "      <th></th>\n",
       "      <th>eventType</th>\n",
       "      <th>uid</th>\n",
       "      <th>timestamp</th>\n",
       "      <th>ip</th>\n",
       "      <th>impressionId</th>\n",
       "    </tr>\n",
       "  </thead>\n",
       "  <tbody>\n",
       "    <tr>\n",
       "      <th>0</th>\n",
       "      <td>display</td>\n",
       "      <td>27240866-b0c0-4227-8ebd-cc0d1dfbe99c</td>\n",
       "      <td>1591264812</td>\n",
       "      <td>223.135.140.156</td>\n",
       "      <td>e8364f11-71da-4da0-8d7f-dafa4ea44ffd</td>\n",
       "    </tr>\n",
       "    <tr>\n",
       "      <th>1</th>\n",
       "      <td>display</td>\n",
       "      <td>d6d11014-0c1c-4d46-b944-cf4a6d535d5510</td>\n",
       "      <td>1591264838</td>\n",
       "      <td>238.186.83.58</td>\n",
       "      <td>37e31030-9265-440a-96a4-4df853e16983</td>\n",
       "    </tr>\n",
       "    <tr>\n",
       "      <th>2</th>\n",
       "      <td>click</td>\n",
       "      <td>d6d11014-0c1c-4d46-b944-cf4a6d535d5510</td>\n",
       "      <td>1591264838</td>\n",
       "      <td>238.186.83.58</td>\n",
       "      <td>37e31030-9265-440a-96a4-4df853e16983</td>\n",
       "    </tr>\n",
       "    <tr>\n",
       "      <th>21</th>\n",
       "      <td>display</td>\n",
       "      <td>5df25e81-a3d8-4e73-acbf-29d64aef66e5</td>\n",
       "      <td>1591264839</td>\n",
       "      <td>219.184.147.61</td>\n",
       "      <td>3bda7969-dbfb-45ae-92b6-248a0a90444a</td>\n",
       "    </tr>\n",
       "    <tr>\n",
       "      <th>20</th>\n",
       "      <td>click</td>\n",
       "      <td>a4aaec8f-bd17-49e1-9d31-22276aab220119</td>\n",
       "      <td>1591264839</td>\n",
       "      <td>238.186.83.58</td>\n",
       "      <td>6d40b8d0-5a6a-4b6e-ad19-13b0e0ce1d30</td>\n",
       "    </tr>\n",
       "    <tr>\n",
       "      <th>19</th>\n",
       "      <td>display</td>\n",
       "      <td>a4aaec8f-bd17-49e1-9d31-22276aab220119</td>\n",
       "      <td>1591264839</td>\n",
       "      <td>238.186.83.58</td>\n",
       "      <td>6d40b8d0-5a6a-4b6e-ad19-13b0e0ce1d30</td>\n",
       "    </tr>\n",
       "    <tr>\n",
       "      <th>18</th>\n",
       "      <td>click</td>\n",
       "      <td>9f72ce96-abb8-4eb2-a395-104e6ed2c14218</td>\n",
       "      <td>1591264839</td>\n",
       "      <td>238.186.83.58</td>\n",
       "      <td>0da50736-ab32-4723-89fe-bf4d0fa8e955</td>\n",
       "    </tr>\n",
       "    <tr>\n",
       "      <th>17</th>\n",
       "      <td>display</td>\n",
       "      <td>9f72ce96-abb8-4eb2-a395-104e6ed2c14218</td>\n",
       "      <td>1591264839</td>\n",
       "      <td>238.186.83.58</td>\n",
       "      <td>0da50736-ab32-4723-89fe-bf4d0fa8e955</td>\n",
       "    </tr>\n",
       "    <tr>\n",
       "      <th>16</th>\n",
       "      <td>click</td>\n",
       "      <td>9ccc3c9e-81e9-4374-af7d-228118d0332817</td>\n",
       "      <td>1591264839</td>\n",
       "      <td>238.186.83.58</td>\n",
       "      <td>c3711b65-6d8f-4c93-a0dd-1a8743d58819</td>\n",
       "    </tr>\n",
       "    <tr>\n",
       "      <th>15</th>\n",
       "      <td>display</td>\n",
       "      <td>9ccc3c9e-81e9-4374-af7d-228118d0332817</td>\n",
       "      <td>1591264839</td>\n",
       "      <td>238.186.83.58</td>\n",
       "      <td>c3711b65-6d8f-4c93-a0dd-1a8743d58819</td>\n",
       "    </tr>\n",
       "  </tbody>\n",
       "</table>\n",
       "</div>"
      ],
      "text/plain": [
       "   eventType                                     uid   timestamp  \\\n",
       "0    display    27240866-b0c0-4227-8ebd-cc0d1dfbe99c  1591264812   \n",
       "1    display  d6d11014-0c1c-4d46-b944-cf4a6d535d5510  1591264838   \n",
       "2      click  d6d11014-0c1c-4d46-b944-cf4a6d535d5510  1591264838   \n",
       "21   display    5df25e81-a3d8-4e73-acbf-29d64aef66e5  1591264839   \n",
       "20     click  a4aaec8f-bd17-49e1-9d31-22276aab220119  1591264839   \n",
       "19   display  a4aaec8f-bd17-49e1-9d31-22276aab220119  1591264839   \n",
       "18     click  9f72ce96-abb8-4eb2-a395-104e6ed2c14218  1591264839   \n",
       "17   display  9f72ce96-abb8-4eb2-a395-104e6ed2c14218  1591264839   \n",
       "16     click  9ccc3c9e-81e9-4374-af7d-228118d0332817  1591264839   \n",
       "15   display  9ccc3c9e-81e9-4374-af7d-228118d0332817  1591264839   \n",
       "\n",
       "                 ip                          impressionId  \n",
       "0   223.135.140.156  e8364f11-71da-4da0-8d7f-dafa4ea44ffd  \n",
       "1     238.186.83.58  37e31030-9265-440a-96a4-4df853e16983  \n",
       "2     238.186.83.58  37e31030-9265-440a-96a4-4df853e16983  \n",
       "21   219.184.147.61  3bda7969-dbfb-45ae-92b6-248a0a90444a  \n",
       "20    238.186.83.58  6d40b8d0-5a6a-4b6e-ad19-13b0e0ce1d30  \n",
       "19    238.186.83.58  6d40b8d0-5a6a-4b6e-ad19-13b0e0ce1d30  \n",
       "18    238.186.83.58  0da50736-ab32-4723-89fe-bf4d0fa8e955  \n",
       "17    238.186.83.58  0da50736-ab32-4723-89fe-bf4d0fa8e955  \n",
       "16    238.186.83.58  c3711b65-6d8f-4c93-a0dd-1a8743d58819  \n",
       "15    238.186.83.58  c3711b65-6d8f-4c93-a0dd-1a8743d58819  "
      ]
     },
     "execution_count": 6,
     "metadata": {},
     "output_type": "execute_result"
    }
   ],
   "source": [
    "df_kafka_events.head(10)"
   ]
  },
  {
   "cell_type": "code",
   "execution_count": 7,
   "metadata": {},
   "outputs": [
    {
     "data": {
      "text/plain": [
       "display    96600\n",
       "click      31005\n",
       "Name: eventType, dtype: int64"
      ]
     },
     "execution_count": 7,
     "metadata": {},
     "output_type": "execute_result"
    }
   ],
   "source": [
    "df_kafka_events['eventType'].value_counts()"
   ]
  },
  {
   "cell_type": "markdown",
   "metadata": {},
   "source": [
    "# Nombre Display et Nombre d'id publicitaire"
   ]
  },
  {
   "cell_type": "code",
   "execution_count": 9,
   "metadata": {},
   "outputs": [
    {
     "data": {
      "text/plain": [
       "2"
      ]
     },
     "execution_count": 9,
     "metadata": {},
     "output_type": "execute_result"
    }
   ],
   "source": [
    "df_kafka_events['impressionId'].value_counts().max()"
   ]
  },
  {
   "cell_type": "code",
   "execution_count": 10,
   "metadata": {},
   "outputs": [
    {
     "name": "stdout",
     "output_type": "stream",
     "text": [
      "nombre impression 96600\n",
      "nombre display 96600\n"
     ]
    }
   ],
   "source": [
    "print('nombre impression',len(df_kafka_events['impressionId'].unique()))\n",
    "print('nombre display',df_kafka_events['eventType'].value_counts()['display'])"
   ]
  },
  {
   "cell_type": "code",
   "execution_count": 11,
   "metadata": {},
   "outputs": [
    {
     "name": "stdout",
     "output_type": "stream",
     "text": [
      "nombre moyen CTR 0.32096273291925465\n"
     ]
    }
   ],
   "source": [
    "print('nombre moyen CTR', df_kafka_events['eventType'].value_counts()['click']/df_kafka_events['eventType'].value_counts()['display'])"
   ]
  },
  {
   "cell_type": "markdown",
   "metadata": {},
   "source": [
    "# Temps avant de cliquer"
   ]
  },
  {
   "cell_type": "code",
   "execution_count": 12,
   "metadata": {},
   "outputs": [],
   "source": [
    "df_time=df_kafka_events.groupby(['uid','impressionId']).apply(lambda x: x['timestamp'].values)\n",
    "df_time=pd.DataFrame(df_time)\n",
    "df=df_time[0].apply(pd.Series)\n",
    "df = df[df[1].notna()]\n",
    "df['time_bef_click']=df[1]-df[0]\n",
    "df_time_bef_click=df.groupby('uid')['time_bef_click'].agg([np.min, np.max, np.mean])"
   ]
  },
  {
   "cell_type": "code",
   "execution_count": 13,
   "metadata": {},
   "outputs": [
    {
     "data": {
      "image/png": "[encoded data removed]",
      "text/plain": [
       "<Figure size 864x576 with 1 Axes>"
      ]
     },
     "metadata": {
      "needs_background": "light"
     },
     "output_type": "display_data"
    }
   ],
   "source": [
    "plt.figure(figsize = (12, 8))\n",
    "sns.distplot(df_time_bef_click['mean'])\n",
    "plt.title(\"Répartition du temps moyen par user avant de cliquer sur une pub\")\n",
    "plt.xlabel(\"Temps en secondes\")\n",
    "plt.show()"
   ]
  },
  {
   "cell_type": "code",
   "execution_count": 14,
   "metadata": {},
   "outputs": [],
   "source": [
    "df_time=df_kafka_events.groupby(['ip','impressionId']).apply(lambda x: x['timestamp'].values)\n",
    "df_time=pd.DataFrame(df_time)\n",
    "df=df_time[0].apply(pd.Series)\n",
    "df = df[df[1].notna()]\n",
    "df['time_bef_click']=df[1]-df[0]\n",
    "df_time_befcli_ip=df.groupby('ip')['time_bef_click'].agg([np.min, np.max, np.mean])"
   ]
  },
  {
   "cell_type": "code",
   "execution_count": 15,
   "metadata": {},
   "outputs": [
    {
     "data": {
      "image/png": "[encoded data removed]",
      "text/plain": [
       "<Figure size 864x576 with 1 Axes>"
      ]
     },
     "metadata": {
      "needs_background": "light"
     },
     "output_type": "display_data"
    }
   ],
   "source": [
    "plt.figure(figsize = (12, 8))\n",
    "sns.distplot(df_time_befcli_ip['mean'])\n",
    "plt.title(\"Répartition du temps moyen par IP avant de cliquer sur une pub\")\n",
    "plt.xlabel(\"Temps en secondes\")\n",
    "plt.show()"
   ]
  },
  {
   "cell_type": "markdown",
   "metadata": {},
   "source": [
    "# CTR"
   ]
  },
  {
   "cell_type": "code",
   "execution_count": 16,
   "metadata": {},
   "outputs": [],
   "source": [
    "df_ratio=df_kafka_events.groupby(['uid']).eventType.value_counts().unstack(fill_value=0)\n",
    "df_ratio['ratio']=df_ratio['click']/df_ratio['display']"
   ]
  },
  {
   "cell_type": "code",
   "execution_count": 21,
   "metadata": {},
   "outputs": [
    {
     "data": {
      "text/plain": [
       "0.4154200230149597"
      ]
     },
     "execution_count": 21,
     "metadata": {},
     "output_type": "execute_result"
    }
   ],
   "source": [
    "np.min(df_ratio[df_ratio['click']>3]['ratio'])"
   ]
  },
  {
   "cell_type": "code",
   "execution_count": 22,
   "metadata": {},
   "outputs": [
    {
     "data": {
      "text/plain": [
       "0.47675675675675677"
      ]
     },
     "execution_count": 22,
     "metadata": {},
     "output_type": "execute_result"
    }
   ],
   "source": [
    "np.max(df_ratio[df_ratio['click']>3]['ratio'])"
   ]
  },
  {
   "cell_type": "code",
   "execution_count": 23,
   "metadata": {},
   "outputs": [
    {
     "data": {
      "text/plain": [
       "0.9853852021357744"
      ]
     },
     "execution_count": 23,
     "metadata": {},
     "output_type": "execute_result"
    }
   ],
   "source": [
    "df_ratio[df_ratio['click']==1]['ratio'].mean()"
   ]
  },
  {
   "cell_type": "code",
   "execution_count": 24,
   "metadata": {},
   "outputs": [
    {
     "data": {
      "text/plain": [
       "(array([38867,     0,     0,    16,    50,   298,     1,     0,     0,\n",
       "        10619], dtype=int64),\n",
       " array([0. , 0.1, 0.2, 0.3, 0.4, 0.5, 0.6, 0.7, 0.8, 0.9, 1. ]))"
      ]
     },
     "execution_count": 24,
     "metadata": {},
     "output_type": "execute_result"
    }
   ],
   "source": [
    "np.histogram(df_ratio['ratio'])"
   ]
  },
  {
   "cell_type": "code",
   "execution_count": 25,
   "metadata": {},
   "outputs": [
    {
     "data": {
      "image/png": "[encoded data removed]",
      "text/plain": [
       "<Figure size 864x576 with 1 Axes>"
      ]
     },
     "metadata": {
      "needs_background": "light"
     },
     "output_type": "display_data"
    }
   ],
   "source": [
    "plt.figure(figsize = (12, 8))\n",
    "sns.distplot(df_ratio['ratio'], kde_kws={'bw':0.1})\n",
    "plt.title(\"Répartition CTR par userId\")\n",
    "plt.xlabel(\"%\")\n",
    "plt.show()"
   ]
  },
  {
   "cell_type": "code",
   "execution_count": 26,
   "metadata": {},
   "outputs": [],
   "source": [
    "df_ratio2=df_kafka_events.groupby(['ip']).eventType.value_counts().unstack(fill_value=0)\n",
    "df_ratio2['ratio']=df_ratio2['click']/df_ratio2['display']"
   ]
  },
  {
   "cell_type": "code",
   "execution_count": 27,
   "metadata": {},
   "outputs": [
    {
     "data": {
      "text/plain": [
       "(array([1146, 2007, 3037, 1658, 1085,  826,  142,   66,   23,   10],\n",
       "       dtype=int64),\n",
       " array([0. , 0.1, 0.2, 0.3, 0.4, 0.5, 0.6, 0.7, 0.8, 0.9, 1. ]))"
      ]
     },
     "execution_count": 27,
     "metadata": {},
     "output_type": "execute_result"
    }
   ],
   "source": [
    "np.histogram(df_ratio2['ratio'])"
   ]
  },
  {
   "cell_type": "code",
   "execution_count": 28,
   "metadata": {},
   "outputs": [
    {
     "data": {
      "image/png": "[encoded data removed]",
      "text/plain": [
       "<Figure size 864x576 with 1 Axes>"
      ]
     },
     "metadata": {
      "needs_background": "light"
     },
     "output_type": "display_data"
    }
   ],
   "source": [
    "plt.figure(figsize = (12, 8))\n",
    "sns.distplot(df_ratio2['ratio'])\n",
    "plt.title(\"Répartition CTR par adresse IP\")\n",
    "plt.xlabel(\"%\")\n",
    "plt.show()"
   ]
  },
  {
   "cell_type": "code",
   "execution_count": null,
   "metadata": {},
   "outputs": [],
   "source": []
  }
 ],
 "metadata": {
  "kernelspec": {
   "display_name": "Python 3",
   "language": "python",
   "name": "python3"
  },
  "language_info": {
   "codemirror_mode": {
    "name": "ipython",
    "version": 3
   },
   "file_extension": ".py",
   "mimetype": "text/x-python",
   "name": "python",
   "nbconvert_exporter": "python",
   "pygments_lexer": "ipython3",
   "version": "3.7.6"
  },
  "toc": {
   "base_numbering": 1,
   "nav_menu": {},
   "number_sections": true,
   "sideBar": true,
   "skip_h1_title": true,
   "title_cell": "Table of Contents",
   "title_sidebar": "Contents",
   "toc_cell": false,
   "toc_position": {},
   "toc_section_display": true,
   "toc_window_display": false
  }
 },
 "nbformat": 4,
 "nbformat_minor": 2
}
